{
 "cells": [
  {
   "cell_type": "markdown",
   "metadata": {},
   "source": [
    "## Import Libraries"
   ]
  },
  {
   "cell_type": "code",
   "execution_count": 1,
   "metadata": {},
   "outputs": [],
   "source": [
    "import numpy as np\n",
    "import matplotlib.pyplot as plt\n",
    "import pandas as pd"
   ]
  },
  {
   "cell_type": "markdown",
   "metadata": {},
   "source": [
    "## Config"
   ]
  },
  {
   "cell_type": "code",
   "execution_count": 2,
   "metadata": {},
   "outputs": [],
   "source": [
    "# Dependent variable column name\n",
    "y_header = 'Life expectancy'"
   ]
  },
  {
   "cell_type": "markdown",
   "metadata": {},
   "source": [
    "## Import CSV dataset"
   ]
  },
  {
   "cell_type": "code",
   "execution_count": 3,
   "metadata": {},
   "outputs": [],
   "source": [
    "dataset = pd.read_csv('LifeExpectancyData.csv')\n",
    "# .values to remove headers and row numbers\n",
    "X = dataset.loc[:, dataset.columns != y_header].values\n",
    "y = dataset.loc[:, y_header].values"
   ]
  },
  {
   "cell_type": "code",
   "execution_count": 4,
   "metadata": {},
   "outputs": [
    {
     "name": "stdout",
     "output_type": "stream",
     "text": [
      "[['Afghanistan' 'Developing' 2015 ... 17.3 0.479 10.1]\n",
      " ['Afghanistan' 'Developing' 2014 ... 17.5 0.47600000000000003 10.0]\n",
      " ['Afghanistan' 'Developing' 2013 ... 17.7 0.47 9.9]\n",
      " ...\n",
      " ['Zimbabwe' 'Developing' 2002 ... 1.3 0.42700000000000005 10.0]\n",
      " ['Zimbabwe' 'Developing' 2001 ... 1.7 0.42700000000000005 9.8]\n",
      " ['Zimbabwe' 'Developing' 2000 ... 11.2 0.434 9.8]]\n"
     ]
    }
   ],
   "source": [
    "print(X)"
   ]
  },
  {
   "cell_type": "code",
   "execution_count": 6,
   "metadata": {},
   "outputs": [
    {
     "name": "stdout",
     "output_type": "stream",
     "text": [
      "[65.  59.9 59.9 ... 44.8 45.3 46. ]\n"
     ]
    }
   ],
   "source": [
    "print(y)"
   ]
  },
  {
   "cell_type": "markdown",
   "metadata": {},
   "source": [
    "## Handling Missing Data (independent variables)"
   ]
  },
  {
   "cell_type": "code",
   "execution_count": 7,
   "metadata": {},
   "outputs": [
    {
     "name": "stdout",
     "output_type": "stream",
     "text": [
      "['Somalia' 'Developing' 2013 318.0 51 0.01 0.0 42.0 3173 23.3 81 47.0 nan\n",
      " 42.0 0.8 47.5432354 nan 6.8 6.6 nan nan]\n"
     ]
    }
   ],
   "source": [
    "# Example of row with missing data\n",
    "print(X[2379])"
   ]
  },
  {
   "cell_type": "code",
   "execution_count": 8,
   "metadata": {},
   "outputs": [],
   "source": [
    "from sklearn.impute import SimpleImputer\n",
    "# missing_values are which values should be to replace. Strategy is method used to replace them\n",
    "# Could also replace using median, etc\n",
    "imputer = SimpleImputer(missing_values=np.nan, strategy='mean')\n",
    "# fit method calculates which values to replace and their replacement values\n",
    "# Can only pass numerical values since we're using a mean\n",
    "imputer.fit(X[:, 3:])\n",
    "# transform applies these values to the dataset. Pass same values as column \n",
    "X[:, 3:] = imputer.transform(X[:, 3:])"
   ]
  },
  {
   "cell_type": "code",
   "execution_count": 9,
   "metadata": {},
   "outputs": [
    {
     "name": "stdout",
     "output_type": "stream",
     "text": [
      "['Somalia' 'Developing' 2013 318.0 51.0 0.01 0.0 42.0 3173.0 23.3 81.0\n",
      " 47.0 5.9381895280235995 42.0 0.8 47.5432354 12753375.120052494 6.8 6.6\n",
      " 0.6275510645976182 11.992792792792793]\n"
     ]
    }
   ],
   "source": [
    "# Example of row with replaced missing data\n",
    "print(X[2379])"
   ]
  },
  {
   "cell_type": "markdown",
   "metadata": {},
   "source": [
    "## Handling Missing Data (dependent variable)"
   ]
  },
  {
   "cell_type": "code",
   "execution_count": 10,
   "metadata": {},
   "outputs": [
    {
     "name": "stdout",
     "output_type": "stream",
     "text": [
      "nan\n"
     ]
    }
   ],
   "source": [
    "print(y[2216])"
   ]
  },
  {
   "cell_type": "code",
   "execution_count": 11,
   "metadata": {},
   "outputs": [
    {
     "name": "stdout",
     "output_type": "stream",
     "text": [
      "Performing impute for dependent varaible\n"
     ]
    }
   ],
   "source": [
    "import numbers\n",
    "\n",
    "# Working on assumption that non-imputable datatypes (string, etc) will have all their values present.\n",
    "\n",
    "if isinstance(y[0], numbers.Number):\n",
    "    print(\"Performing impute for dependent varaible\")\n",
    "    y = y.reshape(-1, 1)\n",
    "    y_imputer = SimpleImputer(missing_values=np.nan, strategy='mean')\n",
    "    y_imputer.fit(y)\n",
    "    y = y_imputer.transform(y)"
   ]
  },
  {
   "cell_type": "code",
   "execution_count": 12,
   "metadata": {},
   "outputs": [
    {
     "name": "stdout",
     "output_type": "stream",
     "text": [
      "[69.22493169]\n"
     ]
    }
   ],
   "source": [
    "print(y[2216])"
   ]
  },
  {
   "cell_type": "markdown",
   "metadata": {},
   "source": [
    "## Encoding Labels (Binary)"
   ]
  },
  {
   "cell_type": "code",
   "execution_count": 13,
   "metadata": {},
   "outputs": [
    {
     "name": "stdout",
     "output_type": "stream",
     "text": [
      "['Developing' 'Developing' 'Developing' ... 'Developing' 'Developing'\n",
      " 'Developing']\n"
     ]
    }
   ],
   "source": [
    "print(X[:,1])"
   ]
  },
  {
   "cell_type": "code",
   "execution_count": 14,
   "metadata": {},
   "outputs": [],
   "source": [
    "from sklearn.preprocessing import LabelEncoder\n",
    "le = LabelEncoder()\n",
    "# performs both the fit and transform in one function\n",
    "X[:,1] = le.fit_transform(X[:,1])"
   ]
  },
  {
   "cell_type": "code",
   "execution_count": 15,
   "metadata": {},
   "outputs": [
    {
     "name": "stdout",
     "output_type": "stream",
     "text": [
      "[1 1 1 ... 1 1 1]\n"
     ]
    }
   ],
   "source": [
    "print(X[:,1])"
   ]
  },
  {
   "cell_type": "markdown",
   "metadata": {},
   "source": [
    "## Encoding Labels (One-Hot)"
   ]
  },
  {
   "cell_type": "code",
   "execution_count": 16,
   "metadata": {},
   "outputs": [
    {
     "name": "stdout",
     "output_type": "stream",
     "text": [
      "['Afghanistan' 'Afghanistan' 'Afghanistan' ... 'Zimbabwe' 'Zimbabwe'\n",
      " 'Zimbabwe']\n"
     ]
    }
   ],
   "source": [
    "print(X[:,0])"
   ]
  },
  {
   "cell_type": "code",
   "execution_count": 17,
   "metadata": {},
   "outputs": [],
   "source": [
    "from sklearn.compose import ColumnTransformer\n",
    "from sklearn.preprocessing import OneHotEncoder\n",
    "# transformers specifies which processes to do and which indexes of columns to perform them on \n",
    "# (0 in this case for country column)\n",
    "# remainder='passthrough' means to keep the other columns that aren't having transformations applied on them\n",
    "ct = ColumnTransformer(transformers=[('encoder', OneHotEncoder(), [0])], remainder='passthrough')\n",
    "# Fit and apply one-hot encoding to our dataset\n",
    "# One hot encoding adds columns for each item in encoding, e.g. [0,0,1] has 0 in column 1, 0 col 2, 1 col 3.\n",
    "\n",
    "X = ct.fit_transform(X)"
   ]
  },
  {
   "cell_type": "code",
   "execution_count": 18,
   "metadata": {},
   "outputs": [
    {
     "name": "stdout",
     "output_type": "stream",
     "text": [
      "  (0, 0)\t1.0\n",
      "  (0, 193)\t1.0\n",
      "  (0, 194)\t2014.0\n",
      "  (0, 195)\t271.0\n",
      "  (0, 196)\t64.0\n",
      "  (0, 197)\t0.01\n",
      "  (0, 198)\t73.52358168\n",
      "  (0, 199)\t62.0\n",
      "  (0, 200)\t492.0\n",
      "  (0, 201)\t18.6\n",
      "  (0, 202)\t86.0\n",
      "  (0, 203)\t58.0\n",
      "  (0, 204)\t8.18\n",
      "  (0, 205)\t62.0\n",
      "  (0, 206)\t0.1\n",
      "  (0, 207)\t612.696514\n",
      "  (0, 208)\t327582.0\n",
      "  (0, 209)\t17.5\n",
      "  (0, 210)\t17.5\n",
      "  (0, 211)\t0.47600000000000003\n",
      "  (0, 212)\t10.0\n"
     ]
    }
   ],
   "source": [
    "# Large number of onehot columns (193) so print output is indexed in (row, column) notation for this row\n",
    "print(X[1])"
   ]
  },
  {
   "cell_type": "markdown",
   "metadata": {},
   "source": [
    "## Splitting data into training and testing datasets"
   ]
  },
  {
   "cell_type": "code",
   "execution_count": 19,
   "metadata": {},
   "outputs": [],
   "source": [
    "from sklearn.model_selection import train_test_split\n",
    "# test_size is proportion of dataset split for test dataset (20% test).\n",
    "# random_state is the random seed. Want this to be constant so we get the same dataset split each time we run this training\n",
    "X_train, X_test, y_train, y_test = train_test_split(X, y, test_size = 0.2, random_state = 1)"
   ]
  },
  {
   "cell_type": "code",
   "execution_count": 20,
   "metadata": {},
   "outputs": [
    {
     "name": "stdout",
     "output_type": "stream",
     "text": [
      "  (0, 65)\t1.0\n",
      "  (0, 193)\t1.0\n",
      "  (0, 194)\t2009.0\n",
      "  (0, 195)\t271.0\n",
      "  (0, 196)\t41.0\n",
      "  (0, 197)\t1.76\n",
      "  (0, 198)\t30.72290501\n",
      "  (0, 199)\t94.0\n",
      "  (0, 200)\t101.0\n",
      "  (0, 201)\t24.9\n",
      "  (0, 202)\t60.0\n",
      "  (0, 203)\t94.0\n",
      "  (0, 204)\t5.17\n",
      "  (0, 205)\t94.0\n",
      "  (0, 206)\t2.1\n",
      "  (0, 207)\t186.76538\n",
      "  (0, 208)\t2393831.0\n",
      "  (0, 209)\t7.3\n",
      "  (0, 210)\t7.2\n",
      "  (0, 211)\t0.542\n",
      "  (0, 212)\t10.4\n",
      "  (1, 161)\t1.0\n",
      "  (1, 193)\t1.0\n",
      "  (1, 194)\t2005.0\n",
      "  (1, 195)\t138.0\n",
      "  :\t:\n",
      "  (2348, 208)\t973146.0\n",
      "  (2348, 209)\t2.4\n",
      "  (2348, 210)\t2.5\n",
      "  (2348, 211)\t0.703\n",
      "  (2348, 212)\t14.1\n",
      "  (2349, 68)\t1.0\n",
      "  (2349, 193)\t1.0\n",
      "  (2349, 194)\t2012.0\n",
      "  (2349, 195)\t189.0\n",
      "  (2349, 196)\t11.0\n",
      "  (2349, 197)\t2.02\n",
      "  (2349, 198)\t484.7187892\n",
      "  (2349, 199)\t96.0\n",
      "  (2349, 201)\t48.6\n",
      "  (2349, 202)\t13.0\n",
      "  (2349, 203)\t94.0\n",
      "  (2349, 204)\t6.33\n",
      "  (2349, 205)\t96.0\n",
      "  (2349, 206)\t0.4\n",
      "  (2349, 207)\t3299.65139\n",
      "  (2349, 208)\t1527156.0\n",
      "  (2349, 209)\t1.2\n",
      "  (2349, 210)\t1.2\n",
      "  (2349, 211)\t0.616\n",
      "  (2349, 212)\t10.6\n"
     ]
    }
   ],
   "source": [
    "print(X_train)"
   ]
  },
  {
   "cell_type": "code",
   "execution_count": 21,
   "metadata": {},
   "outputs": [
    {
     "name": "stdout",
     "output_type": "stream",
     "text": [
      "  (0, 81)\t1.0\n",
      "  (0, 193)\t1.0\n",
      "  (0, 194)\t2013.0\n",
      "  (0, 195)\t61.0\n",
      "  (0, 196)\t1.0\n",
      "  (0, 197)\t2.69\n",
      "  (0, 198)\t4279.895512\n",
      "  (0, 199)\t97.0\n",
      "  (0, 200)\t50.0\n",
      "  (0, 201)\t64.2\n",
      "  (0, 202)\t1.0\n",
      "  (0, 203)\t96.0\n",
      "  (0, 204)\t7.89\n",
      "  (0, 205)\t96.0\n",
      "  (0, 206)\t0.1\n",
      "  (0, 207)\t36393.66932\n",
      "  (0, 208)\t8595.0\n",
      "  (0, 209)\t1.2\n",
      "  (0, 210)\t1.1\n",
      "  (0, 211)\t0.8909999999999999\n",
      "  (0, 212)\t15.9\n",
      "  (1, 179)\t1.0\n",
      "  (1, 193)\t1.0\n",
      "  (1, 194)\t2010.0\n",
      "  (1, 195)\t362.0\n",
      "  :\t:\n",
      "  (586, 209)\t6.6\n",
      "  (586, 210)\t6.6\n",
      "  (586, 211)\t0.42700000000000005\n",
      "  (586, 212)\t11.6\n",
      "  (587, 95)\t1.0\n",
      "  (587, 193)\t1.0\n",
      "  (587, 194)\t2008.0\n",
      "  (587, 195)\t281.0\n",
      "  (587, 196)\t10.0\n",
      "  (587, 197)\t3.88\n",
      "  (587, 198)\t40.03344077\n",
      "  (587, 199)\t64.0\n",
      "  (587, 200)\t1.0\n",
      "  (587, 201)\t23.4\n",
      "  (587, 202)\t14.0\n",
      "  (587, 203)\t79.0\n",
      "  (587, 204)\t11.83\n",
      "  (587, 205)\t75.0\n",
      "  (587, 206)\t2.4\n",
      "  (587, 207)\t232.61732\n",
      "  (587, 208)\t3662993.0\n",
      "  (587, 209)\t7.7\n",
      "  (587, 210)\t7.6\n",
      "  (587, 211)\t0.39399999999999996\n",
      "  (587, 212)\t9.8\n"
     ]
    }
   ],
   "source": [
    "print(X_test)"
   ]
  },
  {
   "cell_type": "code",
   "execution_count": 22,
   "metadata": {},
   "outputs": [
    {
     "name": "stdout",
     "output_type": "stream",
     "text": [
      "[[66. ]\n",
      " [74.2]\n",
      " [77.9]\n",
      " ...\n",
      " [56.3]\n",
      " [68.2]\n",
      " [71.3]]\n"
     ]
    }
   ],
   "source": [
    "print(y_train)"
   ]
  },
  {
   "cell_type": "code",
   "execution_count": 23,
   "metadata": {},
   "outputs": [
    {
     "name": "stdout",
     "output_type": "stream",
     "text": [
      "[[82.1       ]\n",
      " [58.4       ]\n",
      " [63.3       ]\n",
      " [67.9       ]\n",
      " [47.8       ]\n",
      " [89.        ]\n",
      " [67.7       ]\n",
      " [72.5       ]\n",
      " [71.9       ]\n",
      " [78.9       ]\n",
      " [73.        ]\n",
      " [83.        ]\n",
      " [52.2       ]\n",
      " [57.3       ]\n",
      " [72.3       ]\n",
      " [59.2       ]\n",
      " [75.3       ]\n",
      " [72.5       ]\n",
      " [61.9       ]\n",
      " [53.2       ]\n",
      " [72.2       ]\n",
      " [69.22493169]\n",
      " [71.8       ]\n",
      " [55.9       ]\n",
      " [79.9       ]\n",
      " [79.8       ]\n",
      " [72.1       ]\n",
      " [68.9       ]\n",
      " [68.8       ]\n",
      " [51.1       ]\n",
      " [69.3       ]\n",
      " [54.9       ]\n",
      " [73.6       ]\n",
      " [73.4       ]\n",
      " [78.9       ]\n",
      " [76.1       ]\n",
      " [67.8       ]\n",
      " [81.1       ]\n",
      " [74.4       ]\n",
      " [72.1       ]\n",
      " [75.2       ]\n",
      " [80.        ]\n",
      " [71.6       ]\n",
      " [59.4       ]\n",
      " [68.4       ]\n",
      " [72.9       ]\n",
      " [62.5       ]\n",
      " [67.8       ]\n",
      " [73.6       ]\n",
      " [50.        ]\n",
      " [43.3       ]\n",
      " [73.8       ]\n",
      " [72.6       ]\n",
      " [48.5       ]\n",
      " [71.9       ]\n",
      " [65.6       ]\n",
      " [65.9       ]\n",
      " [73.1       ]\n",
      " [61.8       ]\n",
      " [67.5       ]\n",
      " [51.4       ]\n",
      " [47.1       ]\n",
      " [59.2       ]\n",
      " [66.6       ]\n",
      " [77.3       ]\n",
      " [74.        ]\n",
      " [73.4       ]\n",
      " [55.        ]\n",
      " [81.        ]\n",
      " [65.4       ]\n",
      " [79.5       ]\n",
      " [81.        ]\n",
      " [67.7       ]\n",
      " [89.        ]\n",
      " [71.        ]\n",
      " [74.6       ]\n",
      " [79.        ]\n",
      " [74.8       ]\n",
      " [76.2       ]\n",
      " [82.9       ]\n",
      " [67.7       ]\n",
      " [72.8       ]\n",
      " [69.        ]\n",
      " [81.1       ]\n",
      " [62.        ]\n",
      " [67.9       ]\n",
      " [63.7       ]\n",
      " [79.3       ]\n",
      " [73.8       ]\n",
      " [72.8       ]\n",
      " [46.3       ]\n",
      " [77.        ]\n",
      " [62.3       ]\n",
      " [81.1       ]\n",
      " [77.        ]\n",
      " [61.8       ]\n",
      " [54.3       ]\n",
      " [73.2       ]\n",
      " [66.7       ]\n",
      " [71.5       ]\n",
      " [66.3       ]\n",
      " [69.22493169]\n",
      " [67.8       ]\n",
      " [67.1       ]\n",
      " [68.1       ]\n",
      " [57.4       ]\n",
      " [73.6       ]\n",
      " [50.        ]\n",
      " [57.        ]\n",
      " [72.2       ]\n",
      " [75.3       ]\n",
      " [68.7       ]\n",
      " [74.2       ]\n",
      " [81.9       ]\n",
      " [57.9       ]\n",
      " [59.8       ]\n",
      " [72.2       ]\n",
      " [68.4       ]\n",
      " [77.6       ]\n",
      " [76.        ]\n",
      " [68.2       ]\n",
      " [75.3       ]\n",
      " [62.3       ]\n",
      " [71.1       ]\n",
      " [64.1       ]\n",
      " [65.1       ]\n",
      " [75.8       ]\n",
      " [74.7       ]\n",
      " [69.9       ]\n",
      " [65.1       ]\n",
      " [87.        ]\n",
      " [81.5       ]\n",
      " [55.7       ]\n",
      " [77.        ]\n",
      " [73.        ]\n",
      " [72.        ]\n",
      " [65.7       ]\n",
      " [77.6       ]\n",
      " [52.8       ]\n",
      " [62.1       ]\n",
      " [76.        ]\n",
      " [62.5       ]\n",
      " [56.        ]\n",
      " [45.6       ]\n",
      " [69.6       ]\n",
      " [48.7       ]\n",
      " [71.        ]\n",
      " [67.        ]\n",
      " [46.        ]\n",
      " [73.        ]\n",
      " [76.        ]\n",
      " [79.2       ]\n",
      " [76.4       ]\n",
      " [63.5       ]\n",
      " [62.        ]\n",
      " [74.2       ]\n",
      " [69.4       ]\n",
      " [74.7       ]\n",
      " [62.9       ]\n",
      " [80.        ]\n",
      " [72.2       ]\n",
      " [59.7       ]\n",
      " [77.        ]\n",
      " [56.7       ]\n",
      " [49.6       ]\n",
      " [76.2       ]\n",
      " [74.7       ]\n",
      " [55.        ]\n",
      " [65.9       ]\n",
      " [68.8       ]\n",
      " [75.        ]\n",
      " [65.8       ]\n",
      " [71.8       ]\n",
      " [51.7       ]\n",
      " [72.1       ]\n",
      " [66.        ]\n",
      " [74.8       ]\n",
      " [81.        ]\n",
      " [63.3       ]\n",
      " [68.        ]\n",
      " [82.7       ]\n",
      " [72.7       ]\n",
      " [68.5       ]\n",
      " [68.8       ]\n",
      " [73.2       ]\n",
      " [64.        ]\n",
      " [73.4       ]\n",
      " [65.        ]\n",
      " [44.8       ]\n",
      " [56.5       ]\n",
      " [88.        ]\n",
      " [79.9       ]\n",
      " [68.8       ]\n",
      " [46.        ]\n",
      " [48.4       ]\n",
      " [72.3       ]\n",
      " [54.7       ]\n",
      " [72.8       ]\n",
      " [77.7       ]\n",
      " [68.3       ]\n",
      " [73.6       ]\n",
      " [66.5       ]\n",
      " [75.3       ]\n",
      " [71.4       ]\n",
      " [68.        ]\n",
      " [72.1       ]\n",
      " [78.7       ]\n",
      " [81.3       ]\n",
      " [47.4       ]\n",
      " [53.2       ]\n",
      " [72.9       ]\n",
      " [74.3       ]\n",
      " [78.9       ]\n",
      " [74.4       ]\n",
      " [74.3       ]\n",
      " [73.7       ]\n",
      " [64.        ]\n",
      " [74.8       ]\n",
      " [68.7       ]\n",
      " [76.7       ]\n",
      " [74.6       ]\n",
      " [73.7       ]\n",
      " [73.5       ]\n",
      " [74.        ]\n",
      " [68.9       ]\n",
      " [62.1       ]\n",
      " [64.5       ]\n",
      " [77.        ]\n",
      " [76.6       ]\n",
      " [66.2       ]\n",
      " [58.4       ]\n",
      " [73.9       ]\n",
      " [79.2       ]\n",
      " [89.        ]\n",
      " [59.7       ]\n",
      " [72.4       ]\n",
      " [78.        ]\n",
      " [73.        ]\n",
      " [62.5       ]\n",
      " [58.6       ]\n",
      " [73.8       ]\n",
      " [63.8       ]\n",
      " [70.        ]\n",
      " [77.5       ]\n",
      " [72.3       ]\n",
      " [83.        ]\n",
      " [74.1       ]\n",
      " [57.9       ]\n",
      " [75.8       ]\n",
      " [73.        ]\n",
      " [78.5       ]\n",
      " [72.        ]\n",
      " [75.3       ]\n",
      " [73.9       ]\n",
      " [65.6       ]\n",
      " [81.1       ]\n",
      " [82.1       ]\n",
      " [58.3       ]\n",
      " [79.        ]\n",
      " [69.5       ]\n",
      " [73.9       ]\n",
      " [75.2       ]\n",
      " [74.        ]\n",
      " [63.8       ]\n",
      " [79.4       ]\n",
      " [78.5       ]\n",
      " [71.5       ]\n",
      " [68.8       ]\n",
      " [79.5       ]\n",
      " [76.3       ]\n",
      " [73.5       ]\n",
      " [69.22493169]\n",
      " [81.5       ]\n",
      " [58.9       ]\n",
      " [68.6       ]\n",
      " [69.4       ]\n",
      " [71.6       ]\n",
      " [61.8       ]\n",
      " [72.1       ]\n",
      " [74.5       ]\n",
      " [57.9       ]\n",
      " [74.1       ]\n",
      " [79.1       ]\n",
      " [81.        ]\n",
      " [69.22493169]\n",
      " [57.        ]\n",
      " [72.5       ]\n",
      " [69.4       ]\n",
      " [64.2       ]\n",
      " [85.        ]\n",
      " [60.        ]\n",
      " [68.3       ]\n",
      " [76.2       ]\n",
      " [73.        ]\n",
      " [53.7       ]\n",
      " [72.        ]\n",
      " [68.5       ]\n",
      " [62.1       ]\n",
      " [64.        ]\n",
      " [79.7       ]\n",
      " [74.1       ]\n",
      " [49.1       ]\n",
      " [71.7       ]\n",
      " [77.        ]\n",
      " [81.2       ]\n",
      " [54.2       ]\n",
      " [61.6       ]\n",
      " [75.        ]\n",
      " [63.1       ]\n",
      " [71.6       ]\n",
      " [78.9       ]\n",
      " [49.7       ]\n",
      " [74.9       ]\n",
      " [50.        ]\n",
      " [66.8       ]\n",
      " [83.        ]\n",
      " [66.2       ]\n",
      " [73.7       ]\n",
      " [68.1       ]\n",
      " [78.9       ]\n",
      " [75.4       ]\n",
      " [67.4       ]\n",
      " [67.5       ]\n",
      " [63.1       ]\n",
      " [72.        ]\n",
      " [77.        ]\n",
      " [74.4       ]\n",
      " [73.7       ]\n",
      " [72.4       ]\n",
      " [53.8       ]\n",
      " [77.5       ]\n",
      " [51.9       ]\n",
      " [76.        ]\n",
      " [64.7       ]\n",
      " [56.        ]\n",
      " [65.1       ]\n",
      " [60.        ]\n",
      " [71.1       ]\n",
      " [72.7       ]\n",
      " [70.        ]\n",
      " [55.5       ]\n",
      " [69.5       ]\n",
      " [65.3       ]\n",
      " [56.        ]\n",
      " [62.5       ]\n",
      " [71.9       ]\n",
      " [77.6       ]\n",
      " [67.6       ]\n",
      " [75.1       ]\n",
      " [51.        ]\n",
      " [78.7       ]\n",
      " [67.3       ]\n",
      " [64.5       ]\n",
      " [65.        ]\n",
      " [56.2       ]\n",
      " [63.        ]\n",
      " [64.        ]\n",
      " [87.        ]\n",
      " [79.2       ]\n",
      " [75.        ]\n",
      " [74.5       ]\n",
      " [54.7       ]\n",
      " [86.        ]\n",
      " [72.        ]\n",
      " [71.        ]\n",
      " [73.2       ]\n",
      " [61.1       ]\n",
      " [77.6       ]\n",
      " [76.6       ]\n",
      " [62.9       ]\n",
      " [63.9       ]\n",
      " [68.        ]\n",
      " [78.8       ]\n",
      " [77.        ]\n",
      " [53.8       ]\n",
      " [51.4       ]\n",
      " [56.1       ]\n",
      " [58.6       ]\n",
      " [67.2       ]\n",
      " [47.1       ]\n",
      " [83.        ]\n",
      " [75.4       ]\n",
      " [69.9       ]\n",
      " [79.        ]\n",
      " [86.        ]\n",
      " [73.5       ]\n",
      " [71.3       ]\n",
      " [76.3       ]\n",
      " [59.6       ]\n",
      " [47.4       ]\n",
      " [78.9       ]\n",
      " [71.2       ]\n",
      " [75.        ]\n",
      " [73.3       ]\n",
      " [69.9       ]\n",
      " [71.2       ]\n",
      " [65.7       ]\n",
      " [58.3       ]\n",
      " [86.        ]\n",
      " [65.4       ]\n",
      " [74.6       ]\n",
      " [63.1       ]\n",
      " [55.7       ]\n",
      " [73.2       ]\n",
      " [81.4       ]\n",
      " [76.1       ]\n",
      " [72.6       ]\n",
      " [58.4       ]\n",
      " [73.5       ]\n",
      " [81.3       ]\n",
      " [68.        ]\n",
      " [79.9       ]\n",
      " [73.        ]\n",
      " [72.1       ]\n",
      " [72.4       ]\n",
      " [72.8       ]\n",
      " [81.6       ]\n",
      " [73.8       ]\n",
      " [69.        ]\n",
      " [54.9       ]\n",
      " [68.9       ]\n",
      " [73.6       ]\n",
      " [51.        ]\n",
      " [78.5       ]\n",
      " [58.        ]\n",
      " [79.        ]\n",
      " [72.        ]\n",
      " [65.1       ]\n",
      " [71.        ]\n",
      " [69.5       ]\n",
      " [81.1       ]\n",
      " [72.6       ]\n",
      " [71.2       ]\n",
      " [75.        ]\n",
      " [81.        ]\n",
      " [69.4       ]\n",
      " [73.8       ]\n",
      " [72.2       ]\n",
      " [74.6       ]\n",
      " [56.7       ]\n",
      " [76.1       ]\n",
      " [57.4       ]\n",
      " [46.4       ]\n",
      " [71.        ]\n",
      " [72.4       ]\n",
      " [64.4       ]\n",
      " [75.        ]\n",
      " [53.2       ]\n",
      " [58.1       ]\n",
      " [52.1       ]\n",
      " [53.3       ]\n",
      " [67.6       ]\n",
      " [71.8       ]\n",
      " [76.8       ]\n",
      " [65.        ]\n",
      " [77.2       ]\n",
      " [74.1       ]\n",
      " [68.5       ]\n",
      " [55.        ]\n",
      " [73.7       ]\n",
      " [56.        ]\n",
      " [55.6       ]\n",
      " [75.        ]\n",
      " [73.3       ]\n",
      " [72.3       ]\n",
      " [68.7       ]\n",
      " [72.7       ]\n",
      " [74.3       ]\n",
      " [79.6       ]\n",
      " [57.3       ]\n",
      " [59.5       ]\n",
      " [63.4       ]\n",
      " [51.9       ]\n",
      " [70.        ]\n",
      " [59.5       ]\n",
      " [69.1       ]\n",
      " [49.5       ]\n",
      " [67.6       ]\n",
      " [89.        ]\n",
      " [61.3       ]\n",
      " [51.        ]\n",
      " [57.3       ]\n",
      " [77.8       ]\n",
      " [67.3       ]\n",
      " [78.2       ]\n",
      " [74.3       ]\n",
      " [82.        ]\n",
      " [73.        ]\n",
      " [74.5       ]\n",
      " [44.6       ]\n",
      " [58.2       ]\n",
      " [64.4       ]\n",
      " [75.1       ]\n",
      " [76.1       ]\n",
      " [62.2       ]\n",
      " [73.3       ]\n",
      " [72.7       ]\n",
      " [59.3       ]\n",
      " [81.4       ]\n",
      " [52.1       ]\n",
      " [73.8       ]\n",
      " [74.4       ]\n",
      " [45.6       ]\n",
      " [62.5       ]\n",
      " [65.8       ]\n",
      " [66.3       ]\n",
      " [72.7       ]\n",
      " [77.7       ]\n",
      " [73.1       ]\n",
      " [72.4       ]\n",
      " [61.5       ]\n",
      " [63.3       ]\n",
      " [65.7       ]\n",
      " [76.1       ]\n",
      " [82.        ]\n",
      " [76.6       ]\n",
      " [62.2       ]\n",
      " [78.2       ]\n",
      " [72.3       ]\n",
      " [71.4       ]\n",
      " [79.1       ]\n",
      " [73.5       ]\n",
      " [85.        ]\n",
      " [76.4       ]\n",
      " [79.3       ]\n",
      " [67.7       ]\n",
      " [64.2       ]\n",
      " [75.4       ]\n",
      " [79.8       ]\n",
      " [68.        ]\n",
      " [74.        ]\n",
      " [74.9       ]\n",
      " [78.5       ]\n",
      " [71.        ]\n",
      " [50.        ]\n",
      " [59.5       ]\n",
      " [68.3       ]\n",
      " [57.9       ]\n",
      " [81.8       ]\n",
      " [70.        ]\n",
      " [71.4       ]\n",
      " [57.        ]\n",
      " [75.7       ]\n",
      " [54.        ]\n",
      " [73.3       ]\n",
      " [74.        ]\n",
      " [65.        ]\n",
      " [62.1       ]\n",
      " [68.4       ]\n",
      " [75.6       ]\n",
      " [69.1       ]\n",
      " [72.4       ]\n",
      " [72.        ]\n",
      " [81.6       ]\n",
      " [52.7       ]\n",
      " [61.7       ]\n",
      " [61.4       ]\n",
      " [78.7       ]\n",
      " [65.8       ]\n",
      " [59.        ]\n",
      " [39.        ]\n",
      " [69.7       ]\n",
      " [79.8       ]\n",
      " [66.4       ]\n",
      " [67.6       ]\n",
      " [57.3       ]\n",
      " [81.8       ]\n",
      " [73.3       ]\n",
      " [57.6       ]\n",
      " [78.1       ]\n",
      " [71.4       ]\n",
      " [56.6       ]\n",
      " [55.4       ]\n",
      " [75.3       ]\n",
      " [81.2       ]\n",
      " [81.3       ]\n",
      " [71.8       ]\n",
      " [51.9       ]\n",
      " [77.8       ]\n",
      " [74.8       ]\n",
      " [75.8       ]\n",
      " [79.8       ]\n",
      " [81.1       ]\n",
      " [73.4       ]\n",
      " [73.6       ]\n",
      " [73.1       ]\n",
      " [51.3       ]\n",
      " [58.6       ]]\n"
     ]
    }
   ],
   "source": [
    "print(y_test)"
   ]
  },
  {
   "cell_type": "markdown",
   "metadata": {},
   "source": [
    "## Simple Linear Regression (1 independent variable)"
   ]
  },
  {
   "cell_type": "code",
   "execution_count": null,
   "metadata": {},
   "outputs": [],
   "source": [
    "# TODO"
   ]
  },
  {
   "cell_type": "markdown",
   "metadata": {},
   "source": [
    "## Multiple Linear Regression"
   ]
  },
  {
   "cell_type": "markdown",
   "metadata": {},
   "source": [
    "### Training the linear regression model"
   ]
  },
  {
   "cell_type": "code",
   "execution_count": 35,
   "metadata": {},
   "outputs": [
    {
     "data": {
      "text/plain": [
       "LinearRegression()"
      ]
     },
     "execution_count": 35,
     "metadata": {},
     "output_type": "execute_result"
    }
   ],
   "source": [
    "from sklearn.linear_model import LinearRegression\n",
    "regressor = LinearRegression()\n",
    "regressor.fit(X_train, y_train)"
   ]
  },
  {
   "cell_type": "markdown",
   "metadata": {},
   "source": [
    "### Predictions based off testing data"
   ]
  },
  {
   "cell_type": "code",
   "execution_count": 36,
   "metadata": {},
   "outputs": [],
   "source": [
    "y_pred = regressor.predict(X_test)"
   ]
  },
  {
   "cell_type": "code",
   "execution_count": 42,
   "metadata": {},
   "outputs": [
    {
     "name": "stdout",
     "output_type": "stream",
     "text": [
      "[[79.5  82.1 ]\n",
      " [58.13 58.4 ]\n",
      " [67.74 63.3 ]\n",
      " ...\n",
      " [71.76 73.1 ]\n",
      " [54.5  51.3 ]\n",
      " [63.32 58.6 ]]\n"
     ]
    }
   ],
   "source": [
    "np.set_printoptions(precision=2)\n",
    "y_predicted = y_pred.reshape(len(y_pred),1)\n",
    "y_testing = y_test.reshape(len(y_test),1)\n",
    "print(np.concatenate((y_predicted, y_testing),1))"
   ]
  },
  {
   "cell_type": "code",
   "execution_count": null,
   "metadata": {},
   "outputs": [],
   "source": []
  }
 ],
 "metadata": {
  "kernelspec": {
   "display_name": "Python 3",
   "language": "python",
   "name": "python3"
  },
  "language_info": {
   "codemirror_mode": {
    "name": "ipython",
    "version": 3
   },
   "file_extension": ".py",
   "mimetype": "text/x-python",
   "name": "python",
   "nbconvert_exporter": "python",
   "pygments_lexer": "ipython3",
   "version": "3.8.5"
  }
 },
 "nbformat": 4,
 "nbformat_minor": 4
}
